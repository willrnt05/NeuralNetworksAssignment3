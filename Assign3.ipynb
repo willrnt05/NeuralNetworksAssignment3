{
 "cells": [
  {
   "cell_type": "code",
   "execution_count": 38,
   "id": "d2367d88",
   "metadata": {},
   "outputs": [
    {
     "name": "stdout",
     "output_type": "stream",
     "text": [
      "Cuda Device Available\n",
      "Name of the Cuda Device:  NVIDIA GeForce RTX 3060 Laptop GPU\n",
      "GPU Computational Capablity:  (8, 6)\n",
      "         Date  Close/Last     Open     High      Low\n",
      "0  02/18/2022     4348.87  4384.57  4394.60  4327.22\n",
      "1  02/17/2022     4380.26  4456.06  4456.06  4373.81\n",
      "2  02/16/2022     4475.01  4455.75  4489.55  4429.68\n",
      "3  02/15/2022     4471.07  4429.28  4472.77  4429.28\n",
      "4  02/14/2022     4401.67  4412.61  4426.22  4364.84\n",
      "      DateTime  Shiller PE Ratio\n",
      "0   02/01/1871             10.92\n",
      "1   03/01/1871             11.19\n",
      "2   04/01/1871             12.05\n",
      "3   05/01/1871             12.59\n",
      "4   06/01/1871             12.59\n",
      "5   07/01/1871             12.27\n",
      "6   08/01/1871             12.55\n",
      "7   09/01/1871             12.31\n",
      "8   10/01/1871             11.47\n",
      "9   11/01/1871             11.60\n",
      "10  12/01/1871             11.59\n",
      "11  01/01/1872             11.90\n",
      "12  02/01/1872             11.96\n",
      "13  03/01/1872             12.18\n",
      "14  04/01/1872             12.25\n"
     ]
    },
    {
     "data": {
      "text/plain": [
       "'02/01/1871'"
      ]
     },
     "execution_count": 38,
     "metadata": {},
     "output_type": "execute_result"
    }
   ],
   "source": [
    "import torch \n",
    "from torch import nn\n",
    "import numpy as np\n",
    "import math\n",
    "import pandas as pd\n",
    "\n",
    "\n",
    "if torch.cuda.is_available():\n",
    "    device = torch.device(\"cuda:0\")\n",
    "    print(\"Cuda Device Available\")\n",
    "    print(\"Name of the Cuda Device: \", torch.cuda.get_device_name())\n",
    "    print(\"GPU Computational Capablity: \", torch.cuda.get_device_capability())\n",
    "    \n",
    "def ChangeDateShiller(date):\n",
    "    date = date.split()\n",
    "    firstElement = date[0]\n",
    "    firstElement = firstElement.split('-')\n",
    "    firstElement[0], firstElement[1] = firstElement[1], firstElement[0]\n",
    "    firstElement[1], firstElement[2] = firstElement[2], firstElement[1]\n",
    "    firstElement = \"/\".join(firstElement)\n",
    "    return firstElement\n",
    "    \n",
    "def BuildSandPDataSet():\n",
    "    df = pd.read_csv(\"SandP500Data.csv\", sep = ',')\n",
    "    df.drop('Volume', inplace = True, axis=1)\n",
    "    return df\n",
    "\n",
    "def BuildShillerPeDataSet():\n",
    "    df = pd.read_csv(\"ShillerPERatio.csv\", sep = ',', skiprows = [0])\n",
    "    df['DateTime'] = df['DateTime'].apply(ChangeDateShiller)\n",
    "    return df\n",
    "    \n",
    "A = BuildSandPDataSet()\n",
    "print(A.head())\n",
    "S = BuildShillerPeDataSet()\n",
    "print(S.head(15))\n",
    "\n"
   ]
  },
  {
   "cell_type": "code",
   "execution_count": null,
   "id": "46676292",
   "metadata": {},
   "outputs": [],
   "source": []
  },
  {
   "cell_type": "code",
   "execution_count": null,
   "id": "52de9e55",
   "metadata": {},
   "outputs": [],
   "source": []
  }
 ],
 "metadata": {
  "kernelspec": {
   "display_name": "Python 3 (ipykernel)",
   "language": "python",
   "name": "python3"
  },
  "language_info": {
   "codemirror_mode": {
    "name": "ipython",
    "version": 3
   },
   "file_extension": ".py",
   "mimetype": "text/x-python",
   "name": "python",
   "nbconvert_exporter": "python",
   "pygments_lexer": "ipython3",
   "version": "3.8.12"
  }
 },
 "nbformat": 4,
 "nbformat_minor": 5
}
