{
 "cells": [
  {
   "cell_type": "code",
   "execution_count": 44,
   "id": "d2367d88",
   "metadata": {},
   "outputs": [
    {
     "name": "stdout",
     "output_type": "stream",
     "text": [
      "Cuda Device Available\n",
      "Name of the Cuda Device:  NVIDIA GeForce RTX 3060 Laptop GPU\n",
      "GPU Computational Capablity:  (8, 6)\n",
      "         Date  Close/Last     Open     High      Low\n",
      "0  02/20/2012     1361.23     0.00     0.00     0.00\n",
      "1  02/21/2012     1362.21  1361.22  1367.76  1358.11\n",
      "2  02/22/2012     1357.66  1362.11  1362.70  1355.53\n",
      "3  02/23/2012     1363.46  1355.13  1364.24  1352.67\n",
      "4  02/24/2012     1365.74  1363.46  1368.92  1363.46\n",
      "     DateTime  Shiller PE Ratio\n",
      "0  02/01/1871             10.92\n",
      "1  03/01/1871             11.19\n",
      "2  04/01/1871             12.05\n",
      "3  05/01/1871             12.59\n",
      "4  06/01/1871             12.59\n"
     ]
    }
   ],
   "source": [
    "import torch \n",
    "from torch import nn\n",
    "import numpy as np\n",
    "import math\n",
    "import pandas as pd\n",
    "\n",
    "\n",
    "if torch.cuda.is_available():\n",
    "    device = torch.device(\"cuda:0\")\n",
    "    print(\"Cuda Device Available\")\n",
    "    print(\"Name of the Cuda Device: \", torch.cuda.get_device_name())\n",
    "    print(\"GPU Computational Capablity: \", torch.cuda.get_device_capability())\n",
    "    \n",
    "def ChangeDateShiller(date):\n",
    "    date = date.split()\n",
    "    firstElement = date[0]\n",
    "    firstElement = firstElement.split('-')\n",
    "    firstElement[0], firstElement[1] = firstElement[1], firstElement[0]\n",
    "    firstElement[1], firstElement[2] = firstElement[2], firstElement[1]\n",
    "    firstElement = \"/\".join(firstElement)\n",
    "    return firstElement\n",
    "    \n",
    "def BuildSandPDataSet():\n",
    "    df = pd.read_csv(\"SandP500Data.csv\", sep = ',')\n",
    "    df.drop('Volume', inplace = True, axis=1)\n",
    "    df = df.sort_index(axis=0,ascending=False).reset_index()\n",
    "    df.drop('index', inplace = True, axis = 1)\n",
    "    return df\n",
    "\n",
    "def BuildShillerPeDataSet():\n",
    "    df = pd.read_csv(\"ShillerPERatio.csv\", sep = ',', skiprows = [0])\n",
    "    df['DateTime'] = df['DateTime'].apply(ChangeDateShiller)\n",
    "    return df\n",
    "    \n",
    "A = BuildSandPDataSet()\n",
    "print(A.head())\n",
    "S = BuildShillerPeDataSet()\n",
    "print(S.head())\n",
    "\n"
   ]
  },
  {
   "cell_type": "code",
   "execution_count": null,
   "id": "46676292",
   "metadata": {},
   "outputs": [],
   "source": []
  },
  {
   "cell_type": "code",
   "execution_count": null,
   "id": "52de9e55",
   "metadata": {},
   "outputs": [],
   "source": []
  }
 ],
 "metadata": {
  "kernelspec": {
   "display_name": "Python 3 (ipykernel)",
   "language": "python",
   "name": "python3"
  },
  "language_info": {
   "codemirror_mode": {
    "name": "ipython",
    "version": 3
   },
   "file_extension": ".py",
   "mimetype": "text/x-python",
   "name": "python",
   "nbconvert_exporter": "python",
   "pygments_lexer": "ipython3",
   "version": "3.8.12"
  }
 },
 "nbformat": 4,
 "nbformat_minor": 5
}
